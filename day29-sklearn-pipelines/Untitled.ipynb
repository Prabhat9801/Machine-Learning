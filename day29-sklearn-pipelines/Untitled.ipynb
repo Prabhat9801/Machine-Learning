{
 "cells": [
  {
   "cell_type": "code",
   "execution_count": 2,
   "id": "ac66b2b4-3b50-4694-957b-12b37e988471",
   "metadata": {},
   "outputs": [
    {
     "name": "stdout",
     "output_type": "stream",
     "text": [
      "Collecting nbmerge\n",
      "  Downloading nbmerge-0.0.4.tar.gz (7.6 kB)\n",
      "  Installing build dependencies: started\n",
      "  Installing build dependencies: finished with status 'done'\n",
      "  Getting requirements to build wheel: started\n",
      "  Getting requirements to build wheel: finished with status 'done'\n",
      "  Preparing metadata (pyproject.toml): started\n",
      "  Preparing metadata (pyproject.toml): finished with status 'done'\n",
      "Building wheels for collected packages: nbmerge\n",
      "  Building wheel for nbmerge (pyproject.toml): started\n",
      "  Building wheel for nbmerge (pyproject.toml): finished with status 'done'\n",
      "  Created wheel for nbmerge: filename=nbmerge-0.0.4-py2.py3-none-any.whl size=6514 sha256=2d825bd6d3b703259af6f63f4ad9967936da38cba3914173d986d29b6a310af3\n",
      "  Stored in directory: c:\\users\\prabh\\appdata\\local\\pip\\cache\\wheels\\ab\\6a\\28\\a33b228ce3eda9a7cc2cfd050b24752d09ac76a13733738df5\n",
      "Successfully built nbmerge\n",
      "Installing collected packages: nbmerge\n",
      "Successfully installed nbmerge-0.0.4\n"
     ]
    }
   ],
   "source": [
    "!pip install nbmerge"
   ]
  },
  {
   "cell_type": "code",
   "execution_count": 4,
   "id": "cfa0fc12-6f21-4b8d-986f-9d28a9e7ba97",
   "metadata": {},
   "outputs": [
    {
     "name": "stderr",
     "output_type": "stream",
     "text": [
      "Traceback (most recent call last):\n",
      "  File \"C:\\Users\\prabh\\AppData\\Local\\Programs\\Python\\Python310\\lib\\runpy.py\", line 196, in _run_module_as_main\n",
      "    return _run_code(code, main_globals, None,\n",
      "  File \"C:\\Users\\prabh\\AppData\\Local\\Programs\\Python\\Python310\\lib\\runpy.py\", line 86, in _run_code\n",
      "    exec(code, run_globals)\n",
      "  File \"C:\\Users\\prabh\\AppData\\Local\\Programs\\Python\\Python310\\Scripts\\nbmerge.exe\\__main__.py\", line 4, in <module>\n",
      "  File \"C:\\Users\\prabh\\AppData\\Local\\Programs\\Python\\Python310\\lib\\site-packages\\nbmerge\\__init__.py\", line 8, in <module>\n",
      "    from nbformat import read as read_notebook\n",
      "ModuleNotFoundError: No module named 'nbformat'\n"
     ]
    }
   ],
   "source": [
    "!nbmerge titanic-without-using-pipeline.ipynb titanic-using-pipeline.ipynb > merged.ipynb"
   ]
  },
  {
   "cell_type": "code",
   "execution_count": null,
   "id": "876e0f16-9c99-46a9-adf2-d42e604ae8e6",
   "metadata": {},
   "outputs": [],
   "source": []
  }
 ],
 "metadata": {
  "kernelspec": {
   "display_name": "Python 3 (ipykernel)",
   "language": "python",
   "name": "python3"
  },
  "language_info": {
   "codemirror_mode": {
    "name": "ipython",
    "version": 3
   },
   "file_extension": ".py",
   "mimetype": "text/x-python",
   "name": "python",
   "nbconvert_exporter": "python",
   "pygments_lexer": "ipython3",
   "version": "3.11.8"
  }
 },
 "nbformat": 4,
 "nbformat_minor": 5
}
